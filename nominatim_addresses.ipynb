{
  "nbformat": 4,
  "nbformat_minor": 0,
  "metadata": {
    "colab": {
      "provenance": [],
      "authorship_tag": "ABX9TyNS7+ovmYGoZfbs6naUE4hy",
      "include_colab_link": true
    },
    "kernelspec": {
      "name": "python3",
      "display_name": "Python 3"
    },
    "language_info": {
      "name": "python"
    }
  },
  "cells": [
    {
      "cell_type": "markdown",
      "metadata": {
        "id": "view-in-github",
        "colab_type": "text"
      },
      "source": [
        "<a href=\"https://colab.research.google.com/github/Ashi743/QGIS/blob/main/nominatim_addresses.ipynb\" target=\"_parent\"><img src=\"https://colab.research.google.com/assets/colab-badge.svg\" alt=\"Open In Colab\"/></a>"
      ]
    },
    {
      "cell_type": "code",
      "execution_count": null,
      "metadata": {
        "id": "pgWSLjpziXCC"
      },
      "outputs": [],
      "source": [
        "import geopy"
      ]
    },
    {
      "cell_type": "code",
      "source": [
        "from geopy.geocoders import Nominatim"
      ],
      "metadata": {
        "id": "g-e6FhnQi0_1"
      },
      "execution_count": null,
      "outputs": []
    },
    {
      "cell_type": "markdown",
      "source": [
        "to geolocate a query to an address and coordinates"
      ],
      "metadata": {
        "id": "5jJepIUMpsBI"
      }
    },
    {
      "cell_type": "code",
      "source": [
        "geolocator= Nominatim(user_agent=\"MyApp\")\n",
        "location= geolocator.geocode(\"175 5th Avenue NYC\")\n",
        "print(location.address)"
      ],
      "metadata": {
        "colab": {
          "base_uri": "https://localhost:8080/"
        },
        "id": "aHLff2dri8v4",
        "outputId": "48ffcff1-a5a0-4140-a03c-8bbd58f3c9f4"
      },
      "execution_count": null,
      "outputs": [
        {
          "output_type": "stream",
          "name": "stdout",
          "text": [
            "Flatiron Building, 175, 5th Avenue, Flatiron District, Manhattan Community Board 5, Manhattan, New York County, City of New York, New York, 10010, United States of America\n"
          ]
        }
      ]
    },
    {
      "cell_type": "code",
      "source": [
        "locations = [\n",
        "    ('Norman Thomas HS (ECF)', '111 E 33rd St, NYC, New York'),\n",
        "    ('Midtown East Campus', '233 E 56th St, NYC, New York'),\n",
        "    ('Louis D. Brandeis HS', '145 W 84th St, NYC, New York'),\n",
        "    ('Martin Luther King, Jr. HS', '122 Amsterdam Avenue, NYC, New York'),\n",
        "    ('P.S. 48', '4360 Broadway, NYC, New York')\n",
        "]\n",
        "\n",
        "for name, address in locations:\n",
        "    location = geolocator.geocode(address, timeout=10) # Increased timeout to 10 seconds\n",
        "    if location:\n",
        "        print(f\"{name}: {location.latitude}, {location.longitude}\")\n",
        "    else:\n",
        "        print(f\"{name}: Could not geocode address\")"
      ],
      "metadata": {
        "colab": {
          "base_uri": "https://localhost:8080/"
        },
        "id": "cXa491hmqSuX",
        "outputId": "b3877b8e-8b68-4195-8fd7-4dd00dbaaee3"
      },
      "execution_count": null,
      "outputs": [
        {
          "output_type": "stream",
          "name": "stdout",
          "text": [
            "Norman Thomas HS (ECF): 40.7462177, -73.9809816\n",
            "Midtown East Campus: 40.6513246, -73.9242165\n",
            "Louis D. Brandeis HS: 40.7857432, -73.9742029\n",
            "Martin Luther King, Jr. HS: 40.7747751, -73.9853689\n",
            "P.S. 48: 40.8530757, -73.933713\n"
          ]
        }
      ]
    },
    {
      "cell_type": "markdown",
      "source": [
        "to find address from coordinates"
      ],
      "metadata": {
        "id": "d-Gu8KQmpxVH"
      }
    },
    {
      "cell_type": "code",
      "source": [
        "location= geolocator.reverse(\"31.0768397, 77.1854947\")\n",
        "print(location.address)"
      ],
      "metadata": {
        "colab": {
          "base_uri": "https://localhost:8080/"
        },
        "id": "Txw0wlHGpkXR",
        "outputId": "f4b0eaca-8bbf-4284-f209-a767f44e96bf"
      },
      "execution_count": null,
      "outputs": [
        {
          "output_type": "stream",
          "name": "stdout",
          "text": [
            "Shimla Bypass, Pati, Shimla (urban), Shimla ( Rural ), Shimla, Himachal Pradesh, 171006, India\n"
          ]
        }
      ]
    },
    {
      "cell_type": "code",
      "source": [
        "Spatial Thoughts LLP,\n",
        "FF 105, Aaradhya Complex,\n",
        "Gala Gymkhana Road, Bopal,\n",
        "Ahmedabad, India"
      ],
      "metadata": {
        "id": "GhgcHnMgp2cu"
      },
      "execution_count": null,
      "outputs": []
    },
    {
      "cell_type": "code",
      "source": [
        "location= geolocator.geocode(\"Spatial Thoughts LLP,FF 105, Aaradhya Complex,Gala Gymkhana Road, Bopal,Ahmedabad, India\")\n",
        "print(location.address)        #will fail duhhhh"
      ],
      "metadata": {
        "colab": {
          "base_uri": "https://localhost:8080/",
          "height": 158
        },
        "id": "9F8UyKKj-Mtv",
        "outputId": "8fe754f4-f9f5-4151-c2c9-88ba465b2026"
      },
      "execution_count": null,
      "outputs": [
        {
          "output_type": "error",
          "ename": "AttributeError",
          "evalue": "'NoneType' object has no attribute 'address'",
          "traceback": [
            "\u001b[0;31m---------------------------------------------------------------------------\u001b[0m",
            "\u001b[0;31mAttributeError\u001b[0m                            Traceback (most recent call last)",
            "\u001b[0;32m/tmp/ipython-input-3276260849.py\u001b[0m in \u001b[0;36m<cell line: 0>\u001b[0;34m()\u001b[0m\n\u001b[1;32m      1\u001b[0m \u001b[0mlocation\u001b[0m\u001b[0;34m=\u001b[0m \u001b[0mgeolocator\u001b[0m\u001b[0;34m.\u001b[0m\u001b[0mgeocode\u001b[0m\u001b[0;34m(\u001b[0m\u001b[0;34m\"Spatial Thoughts LLP,FF 105, Aaradhya Complex,Gala Gymkhana Road, Bopal,Ahmedabad, India\"\u001b[0m\u001b[0;34m)\u001b[0m\u001b[0;34m\u001b[0m\u001b[0;34m\u001b[0m\u001b[0m\n\u001b[0;32m----> 2\u001b[0;31m \u001b[0mprint\u001b[0m\u001b[0;34m(\u001b[0m\u001b[0mlocation\u001b[0m\u001b[0;34m.\u001b[0m\u001b[0maddress\u001b[0m\u001b[0;34m)\u001b[0m\u001b[0;34m\u001b[0m\u001b[0;34m\u001b[0m\u001b[0m\n\u001b[0m",
            "\u001b[0;31mAttributeError\u001b[0m: 'NoneType' object has no attribute 'address'"
          ]
        }
      ]
    },
    {
      "cell_type": "code",
      "source": [
        "location= geolocator.geocode(\"Gala Gymkhana Road, Bopal,Ahmedabad, India\")\n",
        "print(location.address)"
      ],
      "metadata": {
        "colab": {
          "base_uri": "https://localhost:8080/"
        },
        "id": "ncE4dVTH-RsD",
        "outputId": "58aa2542-9114-4784-819a-e0d6ebd7e882"
      },
      "execution_count": null,
      "outputs": [
        {
          "output_type": "stream",
          "name": "stdout",
          "text": [
            "200ft. Gala Gymkhana Road, South Bopal, Sanand Taluka, Ahmedabad, Gujarat, 380058, India\n"
          ]
        }
      ]
    },
    {
      "cell_type": "code",
      "source": [],
      "metadata": {
        "id": "Uu6eCe_v-bzr"
      },
      "execution_count": null,
      "outputs": []
    }
  ]
}